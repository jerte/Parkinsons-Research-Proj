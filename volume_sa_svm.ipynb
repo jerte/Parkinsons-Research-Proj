{
 "cells": [
  {
   "cell_type": "code",
   "execution_count": 1,
   "metadata": {},
   "outputs": [],
   "source": [
    "from imblearn.over_sampling import RandomOverSampler, SMOTE\n",
    "import matplotlib.pyplot as plt\n",
    "import numpy as np\n",
    "import itertools\n",
    "\n",
    "from sklearn.model_selection import train_test_split, KFold, StratifiedKFold\n",
    "from sklearn import svm\n",
    "from sklearn.ensemble import RandomForestClassifier\n",
    "from sklearn.metrics import confusion_matrix, accuracy_score\n",
    "\n",
    "from sklearn import preprocessing\n",
    "import csv\n",
    "from statistics import mean, stdev"
   ]
  },
  {
   "cell_type": "code",
   "execution_count": 2,
   "metadata": {},
   "outputs": [],
   "source": [
    "def plot_confusion_matrix(cm, classes,\n",
    "                          normalize=False,\n",
    "                          title='Confusion matrix',\n",
    "                          cmap=plt.cm.Blues):\n",
    "    \"\"\"\n",
    "    This function prints and plots the confusion matrix.\n",
    "    Normalization can be applied by setting `normalize=True`.\n",
    "    \"\"\"\n",
    "    if normalize:\n",
    "        cm = cm.astype('float') / cm.sum(axis=1)[:, np.newaxis]\n",
    "        print(\"Normalized confusion matrix\")\n",
    "    else:\n",
    "        print('Confusion matrix, without normalization')\n",
    "\n",
    "    print(cm)\n",
    "\n",
    "    plt.clf()\n",
    "    plt.imshow(cm, interpolation='nearest', cmap=cmap)\n",
    "    plt.title(title)\n",
    "    plt.colorbar()\n",
    "    tick_marks = np.arange(len(classes))\n",
    "    plt.xticks(tick_marks, classes, rotation=45)\n",
    "    plt.yticks(tick_marks, classes)\n",
    "\n",
    "    fmt = '.2f' if normalize else 'd'\n",
    "    thresh = cm.max() / 2.\n",
    "    for i, j in itertools.product(range(cm.shape[0]), range(cm.shape[1])):\n",
    "        plt.text(j, i, format(cm[i, j], fmt),\n",
    "                 horizontalalignment=\"center\",\n",
    "                 color=\"white\" if cm[i, j] > thresh else \"black\")\n",
    "\n",
    "    plt.ylabel('True label')\n",
    "    plt.xlabel('Predicted label')\n",
    "    plt.tight_layout()\n"
   ]
  },
  {
   "cell_type": "code",
   "execution_count": 3,
   "metadata": {},
   "outputs": [],
   "source": [
    "def f_importances(coef, names, top=-1):\n",
    "    imp = coef\n",
    "    imp, names = zip(*sorted(list(zip(imp, names))))\n",
    "\n",
    "    # Show all features\n",
    "    if top == -1:\n",
    "        top = len(names)\n",
    "\n",
    "    plt.barh(range(top), imp[::-1][0:top], align='center')\n",
    "    plt.yticks(range(top), names[::-1][0:top])\n",
    "    plt.savefig('/home/jt/research/sc_vol_sa_feats', bbox_inches='tight')\n",
    "    plt.show()"
   ]
  },
  {
   "cell_type": "code",
   "execution_count": 4,
   "metadata": {},
   "outputs": [
    {
     "name": "stdout",
     "output_type": "stream",
     "text": [
      "150\n"
     ]
    }
   ],
   "source": [
    "# get target areas from file\n",
    "with open('target_areas.txt') as f:\n",
    "    target_areas = f.readlines()\n",
    "target_areas = map(str.strip, target_areas)\n",
    "print(len(target_areas))"
   ]
  },
  {
   "cell_type": "code",
   "execution_count": 5,
   "metadata": {},
   "outputs": [
    {
     "name": "stdout",
     "output_type": "stream",
     "text": [
      "['Measure:volume', 'Left-Lateral-Ventricle', 'Left-Inf-Lat-Vent', 'Left-Cerebellum-White-Matter', 'Left-Cerebellum-Cortex', 'Left-Thalamus-Proper', 'Left-Caudate', 'Left-Putamen', 'Left-Pallidum', '3rd-Ventricle', '4th-Ventricle', 'Brain-Stem', 'Left-Hippocampus', 'Left-Amygdala', 'CSF', 'Left-Accumbens-area', 'Left-VentralDC', 'Left-vessel', 'Left-choroid-plexus', 'Right-Lateral-Ventricle', 'Right-Inf-Lat-Vent', 'Right-Cerebellum-White-Matter', 'Right-Cerebellum-Cortex', 'Right-Thalamus-Proper', 'Right-Caudate', 'Right-Putamen', 'Right-Pallidum', 'Right-Hippocampus', 'Right-Amygdala', 'Right-Accumbens-area', 'Right-VentralDC', 'Right-vessel', 'Right-choroid-plexus', '5th-Ventricle', 'WM-hypointensities', 'Left-WM-hypointensities', 'Right-WM-hypointensities', 'non-WM-hypointensities', 'Left-non-WM-hypointensities', 'Right-non-WM-hypointensities', 'Optic-Chiasm', 'CC_Posterior', 'CC_Mid_Posterior', 'CC_Central', 'CC_Mid_Anterior', 'CC_Anterior', 'BrainSegVol', 'BrainSegVolNotVent', 'BrainSegVolNotVentSurf', 'lhCortexVol', 'rhCortexVol', 'CortexVol', 'lhCerebralWhiteMatterVol', 'rhCerebralWhiteMatterVol', 'CerebralWhiteMatterVol', 'SubCortGrayVol', 'TotalGrayVol', 'SupraTentorialVol', 'SupraTentorialVolNotVent', 'SupraTentorialVolNotVentVox', 'MaskVol', 'BrainSegVol-to-eTIV', 'MaskVol-to-eTIV', 'lhSurfaceHoles', 'rhSurfaceHoles', 'SurfaceHoles', 'EstimatedTotalIntraCranialVol']\n"
     ]
    }
   ],
   "source": [
    "# get aseg data (volume) from file\n",
    "with open('aseg_stats.txt') as f:\n",
    "    aseg_data = f.readlines()\n",
    "aseg_data = map(str.split, aseg_data)\n",
    "print(aseg_data[0])"
   ]
  },
  {
   "cell_type": "code",
   "execution_count": 6,
   "metadata": {},
   "outputs": [
    {
     "name": "stdout",
     "output_type": "stream",
     "text": [
      "38\n"
     ]
    }
   ],
   "source": [
    "#get lh aparc data (surface area) from file\n",
    "with open('aparc_lh_area.txt') as f:\n",
    "    aparc_lh_data = f.readlines();\n",
    "aparc_lh_data = map(str.split, aparc_lh_data)\n",
    "print(len(aparc_lh_data[0]))"
   ]
  },
  {
   "cell_type": "code",
   "execution_count": 7,
   "metadata": {},
   "outputs": [
    {
     "name": "stdout",
     "output_type": "stream",
     "text": [
      "38\n"
     ]
    }
   ],
   "source": [
    "#get rh aparc data (area) from file\n",
    "with open('aparc_rh_area.txt') as f:\n",
    "    aparc_rh_data = f.readlines();\n",
    "aparc_rh_data = map(str.split, aparc_rh_data)\n",
    "print(len(aparc_rh_data[0]))"
   ]
  },
  {
   "cell_type": "code",
   "execution_count": 8,
   "metadata": {},
   "outputs": [
    {
     "name": "stdout",
     "output_type": "stream",
     "text": [
      "16\n"
     ]
    }
   ],
   "source": [
    "# get indices of target areas in aseg data and get feature names\n",
    "feature_names = []\n",
    "aseg_target_indices = []\n",
    "for i in range(0, len(aseg_data[0])):\n",
    "    if aseg_data[0][i] in target_areas:\n",
    "        aseg_target_indices.append(i)\n",
    "        feature_names.append(aseg_data[0][i])\n",
    "        \n",
    "print(len(aseg_target_indices))"
   ]
  },
  {
   "cell_type": "code",
   "execution_count": 9,
   "metadata": {},
   "outputs": [
    {
     "name": "stdout",
     "output_type": "stream",
     "text": [
      "33\n",
      "33\n"
     ]
    }
   ],
   "source": [
    "# get indices of target area in aparc data and get feature names\n",
    "aparc_lh_target_indices = []\n",
    "aparc_rh_target_indices = []\n",
    "for i in range(0, len(aparc_lh_data[0])):\n",
    "    if aparc_lh_data[0][i] in target_areas:\n",
    "        aparc_lh_target_indices.append(i)\n",
    "        feature_names.append(aparc_lh_data[0][i])\n",
    "    if aparc_rh_data[0][i] in target_areas:\n",
    "        aparc_rh_target_indices.append(i)\n",
    "        feature_names.append(aparc_rh_data[0][i])\n",
    "\n",
    "print(len(aparc_lh_target_indices))\n",
    "print(len(aparc_rh_target_indices))"
   ]
  },
  {
   "cell_type": "code",
   "execution_count": 10,
   "metadata": {},
   "outputs": [
    {
     "name": "stdout",
     "output_type": "stream",
     "text": [
      "304\n",
      "304\n",
      "303\n"
     ]
    }
   ],
   "source": [
    "# make features for each patient, make patients & moca\n",
    "target_aseg_data = []\n",
    "target_aparc_data = []\n",
    "\n",
    "patients = []\n",
    "for i in aseg_data[1:]:\n",
    "    patients.append(i[0])\n",
    "    p = []\n",
    "    for j in aseg_target_indices:\n",
    "        p.append(i[j])\n",
    "    target_aseg_data.append(p)\n",
    "\n",
    "print(len(aparc_lh_data))\n",
    "print(len(aparc_rh_data))\n",
    " \n",
    "for i in range(1,len(aparc_lh_data)):\n",
    "    if aparc_lh_data[i][0] in patients and aparc_rh_data[i][0] in patients:\n",
    "        p = []\n",
    "        for j in aparc_lh_target_indices:\n",
    "            p.append(aparc_lh_data[i][j])\n",
    "        for j in aparc_rh_target_indices:\n",
    "            p.append(aparc_rh_data[i][j])\n",
    "        target_aparc_data.append(p)\n",
    "print(len(target_aparc_data))"
   ]
  },
  {
   "cell_type": "code",
   "execution_count": 11,
   "metadata": {},
   "outputs": [
    {
     "name": "stdout",
     "output_type": "stream",
     "text": [
      "303\n",
      "(303, 16)\n",
      "(303, 66)\n"
     ]
    }
   ],
   "source": [
    "print(len(patients))\n",
    "print(len(target_aseg_data), len(target_aseg_data[0]))\n",
    "print(len(target_aparc_data), len(target_aparc_data[0]))"
   ]
  },
  {
   "cell_type": "code",
   "execution_count": 12,
   "metadata": {},
   "outputs": [
    {
     "name": "stdout",
     "output_type": "stream",
     "text": [
      "(303, 82)\n"
     ]
    }
   ],
   "source": [
    "#standarize and combine data\n",
    "\n",
    "target_aseg_data_s = preprocessing.scale(target_aseg_data, axis=1)\n",
    "target_aparc_data_s = preprocessing.scale(target_aparc_data, axis=1)\n",
    "\n",
    "target_aseg_data_s = target_aseg_data_s.tolist()\n",
    "target_aparc_data_s = target_aparc_data_s.tolist()\n",
    "\n",
    "target_data = []\n",
    "for i in range(0, len(target_aparc_data_s)):\n",
    "    target_data.append(target_aseg_data_s[i] + target_aparc_data_s[i])\n",
    "    \n",
    "print(len(target_data), len(target_data[0]))"
   ]
  },
  {
   "cell_type": "code",
   "execution_count": 13,
   "metadata": {},
   "outputs": [
    {
     "name": "stdout",
     "output_type": "stream",
     "text": [
      "(303, 303, 303, 61)\n"
     ]
    }
   ],
   "source": [
    "import warnings\n",
    "warnings.simplefilter(action='ignore', category=FutureWarning)\n",
    "\n",
    "# get moca scores, age, and sex for each patient - remove patients without\n",
    "skipped_patients = []\n",
    "\n",
    "mocas = patients[:]\n",
    "age = patients[:]\n",
    "sex = patients[:]\n",
    "\n",
    "with open('Josh_finalChart.csv') as f:\n",
    "    freader = csv.DictReader(f)\n",
    "    for i in freader:\n",
    "        \n",
    "        if i['Subject'] in mocas:\n",
    "            mocas[mocas.index(i['Subject'])] = i['First/Last Moca Diff']\n",
    "        if i['Subject'] in age:\n",
    "            age[age.index(i['Subject'])] = i['Age']\n",
    "        if i['Subject'] in sex:\n",
    "            sex[sex.index(i['Subject'])] = i['Sex']\n",
    "        else:\n",
    "            skipped_patients.append(i['Subject'])\n",
    "        \n",
    "more_skipped = [i for i in mocas if int(i)>3000]\n",
    "\n",
    "for i in more_skipped:\n",
    "    skipped_patients.append(i)\n",
    "\n",
    "print(len(sex), len(age), len(mocas), len(skipped_patients))"
   ]
  },
  {
   "cell_type": "code",
   "execution_count": 14,
   "metadata": {},
   "outputs": [
    {
     "name": "stdout",
     "output_type": "stream",
     "text": [
      "(164, 164, 164, 164)\n"
     ]
    }
   ],
   "source": [
    "#remove patients with no moca / age / sex\n",
    "for i in skipped_patients:\n",
    "    cur = 0\n",
    "    if i in patients:\n",
    "        cur = patients.index(i)\n",
    "        patients.pop(cur)\n",
    "        target_data.pop(cur)\n",
    "    if i in mocas:\n",
    "        mocas.remove(i)\n",
    "    if i in sex:\n",
    "        sex.remove(i)\n",
    "    if i in age:\n",
    "        age.remove(i)\n",
    "\n",
    "mocas = [int(i) for i in mocas]\n",
    "mocas = np.asarray(mocas)\n",
    "patients = np.asarray(patients)\n",
    "target_data = np.asarray(target_data)\n",
    "age = np.asarray(age)\n",
    "sex = np.asarray(sex)\n",
    "\n",
    "# remove all patients that aren't relevant to experiment \n",
    "# moca = 0 -> cognitvely stable patient, moca<=-2 -> cognitvely declining patient\n",
    "patients = patients[np.logical_or(mocas==0, mocas<=-2)]\n",
    "target_data = target_data[np.logical_or(mocas==0, mocas<=-2)]\n",
    "age = age[np.logical_or(mocas==0, mocas<=-2)]\n",
    "sex = sex[np.logical_or(mocas==0, mocas<=-2)]\n",
    "mocas = mocas[np.logical_or(mocas==0, mocas<=-2)]\n",
    "\n",
    "print(len(patients), len(mocas), len(age), len(sex))\n",
    "\n",
    "# convert sex to numerical value\n",
    "for i in range(0, len(sex)):\n",
    "    if sex[i] == 'M':\n",
    "        sex[i] = 0\n",
    "    else:\n",
    "        sex[i] = 1 "
   ]
  },
  {
   "cell_type": "code",
   "execution_count": 15,
   "metadata": {},
   "outputs": [
    {
     "name": "stderr",
     "output_type": "stream",
     "text": [
      "/home/jt/.local/lib/python2.7/site-packages/sklearn/utils/validation.py:595: DataConversionWarning: Data with input dtype |S2 was converted to float64 by the scale function.\n",
      "  warnings.warn(msg, DataConversionWarning)\n",
      "/home/jt/.local/lib/python2.7/site-packages/sklearn/utils/validation.py:595: DataConversionWarning: Data with input dtype |S1 was converted to float64 by the scale function.\n",
      "  warnings.warn(msg, DataConversionWarning)\n"
     ]
    }
   ],
   "source": [
    "# scale age and sex, then append to features\n",
    "target_data = target_data.tolist()\n",
    "\n",
    "age = preprocessing.scale(age)\n",
    "sex = preprocessing.scale(sex)\n",
    "for i in range(0, len(target_data)):\n",
    "    target_data[i].append(age[i])\n",
    "    target_data[i].append(sex[i])   \n",
    "\n",
    "feature_names.append('Age')\n",
    "feature_names.append('Sex')"
   ]
  },
  {
   "cell_type": "code",
   "execution_count": 16,
   "metadata": {},
   "outputs": [
    {
     "name": "stdout",
     "output_type": "stream",
     "text": [
      "[1 1 1 1 1 0 1 0 1 1 1 1 1 1 1 1 0 0 1 1 1 1 0 1 0 1 0 1 0 1 0 0 0 1 0 0 1\n",
      " 1 1 1 1 1 1 0 0 0 1 0 1 0 0 0 1 0 0 1 0 1 0 1 1 0 1 1 1 1 0 1 0 0 1 1 0 0\n",
      " 0 1 1 1 0 1 1 1 1 1 1 1 1 1 1 0 0 1 1 1 1 1 0 0 0 1 1 1 1 1 1 1 1 1 0 0 1\n",
      " 1 1 0 1 1 1 0 0 0 1 0 0 1 0 1 1 0 0 0 1 0 0 0 0 0 1 1 0 1 0 0 1 0 0 1 1 0\n",
      " 1 0 1 0 1 1 0 1 1 0 1 0 0 1 1 1]\n",
      "(164, 164, 164, 84)\n"
     ]
    }
   ],
   "source": [
    "# create classes for mocas\n",
    "# class 0: =0, class 1: <= -2\n",
    "\n",
    "for i in range(0,len(mocas)):\n",
    "    if mocas[i] == 0:\n",
    "        mocas[i] = 0\n",
    "    elif mocas[i] <= -2:\n",
    "        mocas[i] = 1\n",
    "\n",
    "print(mocas)\n",
    "print(len(mocas), len(patients), len(target_data), len(target_data[0]))"
   ]
  },
  {
   "cell_type": "code",
   "execution_count": 17,
   "metadata": {
    "scrolled": false
   },
   "outputs": [
    {
     "name": "stdout",
     "output_type": "stream",
     "text": [
      "All folds\n",
      "0.6829268292682927\n"
     ]
    },
    {
     "data": {
      "image/png": "[encoded data removed]",
      "text/plain": [
       "<Figure size 432x288 with 1 Axes>"
      ]
     },
     "metadata": {
      "needs_background": "light"
     },
     "output_type": "display_data"
    }
   ],
   "source": [
    "# train model\n",
    "skfold = StratifiedKFold(n_splits=5, shuffle=True, random_state=17)\n",
    "y_allPred = []\n",
    "y_allVal = []\n",
    "foldNumber = 0\n",
    "\n",
    "target_data = np.asarray(target_data)\n",
    "\n",
    "for train_index, val_index in skfold.split(target_data, mocas):\n",
    "\n",
    "    X_foldtrain, X_foldval = target_data[train_index], target_data[val_index]\n",
    "    y_foldtrain, y_foldval = mocas[train_index], mocas[val_index]\n",
    "\n",
    "    #print(foldNumber,)\n",
    "    foldNumber+=1\n",
    "\n",
    "    sm = SMOTE()\n",
    "    X_train_res, y_train_res = sm.fit_sample(X_foldtrain, y_foldtrain)\n",
    "\n",
    "    #first SVM\n",
    "    clf = svm.SVC(gamma='auto', kernel='linear', decision_function_shape='ovo')\n",
    "    clf.fit(X_train_res, y_train_res)\n",
    "    y_pred = clf.predict(X_foldval)\n",
    "    y_allPred = np.append(y_allPred, y_pred)\n",
    "    y_allVal = np.append(y_allVal, y_foldval)\n",
    "    #print (accuracy_score(y_foldval, y_pred))\n",
    "\n",
    "print(\"All folds\")\n",
    "print(accuracy_score(y_allVal, y_allPred))\n",
    "\n",
    "relevant_feats = [i for i in clf.coef_[0] if (i>.05 or i<-.05)]\n",
    "relevant_feat_names = [feature_names[i] for i in range(0,len(clf.coef_[0])) \n",
    "                       if (clf.coef_[0][i]>.05 or clf.coef_[0][i]<-.05)]\n",
    "\n",
    "f_importances(relevant_feats, relevant_feat_names)"
   ]
  },
  {
   "cell_type": "code",
   "execution_count": 18,
   "metadata": {},
   "outputs": [
    {
     "name": "stdout",
     "output_type": "stream",
     "text": [
      "Confusion matrix, without normalization\n",
      "[[38 28]\n",
      " [24 74]]\n"
     ]
    },
    {
     "data": {
      "image/png": "[encoded data removed]",
      "text/plain": [
       "<Figure size 432x288 with 2 Axes>"
      ]
     },
     "metadata": {
      "needs_background": "light"
     },
     "output_type": "display_data"
    }
   ],
   "source": [
    "plot_confusion_matrix(confusion_matrix(y_allVal, y_allPred), classes=['loss','no change'])"
   ]
  }
 ],
 "metadata": {
  "kernelspec": {
   "display_name": "Python 2",
   "language": "python",
   "name": "python2"
  },
  "language_info": {
   "codemirror_mode": {
    "name": "ipython",
    "version": 2
   },
   "file_extension": ".py",
   "mimetype": "text/x-python",
   "name": "python",
   "nbconvert_exporter": "python",
   "pygments_lexer": "ipython2",
   "version": "2.7.17"
  }
 },
 "nbformat": 4,
 "nbformat_minor": 2
}
